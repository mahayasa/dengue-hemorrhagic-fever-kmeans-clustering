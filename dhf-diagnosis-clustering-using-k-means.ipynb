{
 "cells": [
  {
   "cell_type": "code",
   "execution_count": 1,
   "id": "31651070",
   "metadata": {
    "execution": {
     "iopub.execute_input": "2021-09-08T15:14:59.794675Z",
     "iopub.status.busy": "2021-09-08T15:14:59.793042Z",
     "iopub.status.idle": "2021-09-08T15:15:01.026773Z",
     "shell.execute_reply": "2021-09-08T15:15:01.025722Z",
     "shell.execute_reply.started": "2021-09-08T15:11:22.126733Z"
    },
    "papermill": {
     "duration": 1.252674,
     "end_time": "2021-09-08T15:15:01.026994",
     "exception": false,
     "start_time": "2021-09-08T15:14:59.774320",
     "status": "completed"
    },
    "tags": []
   },
   "outputs": [],
   "source": [
    "from sklearn.cluster import KMeans\n",
    "import pandas as pd\n",
    "from sklearn.preprocessing import MinMaxScaler\n",
    "from matplotlib import pyplot as plt\n",
    "%matplotlib inline"
   ]
  },
  {
   "cell_type": "code",
   "execution_count": 2,
   "id": "fbad5fed",
   "metadata": {
    "execution": {
     "iopub.execute_input": "2021-09-08T15:15:01.054320Z",
     "iopub.status.busy": "2021-09-08T15:15:01.053694Z",
     "iopub.status.idle": "2021-09-08T15:15:01.092239Z",
     "shell.execute_reply": "2021-09-08T15:15:01.092658Z",
     "shell.execute_reply.started": "2021-09-08T15:11:23.356381Z"
    },
    "papermill": {
     "duration": 0.053501,
     "end_time": "2021-09-08T15:15:01.093043",
     "exception": false,
     "start_time": "2021-09-08T15:15:01.039542",
     "status": "completed"
    },
    "tags": []
   },
   "outputs": [
    {
     "data": {
      "text/html": [
       "<div>\n",
       "<style scoped>\n",
       "    .dataframe tbody tr th:only-of-type {\n",
       "        vertical-align: middle;\n",
       "    }\n",
       "\n",
       "    .dataframe tbody tr th {\n",
       "        vertical-align: top;\n",
       "    }\n",
       "\n",
       "    .dataframe thead th {\n",
       "        text-align: right;\n",
       "    }\n",
       "</style>\n",
       "<table border=\"1\" class=\"dataframe\">\n",
       "  <thead>\n",
       "    <tr style=\"text-align: right;\">\n",
       "      <th></th>\n",
       "      <th>gender</th>\n",
       "      <th>umur</th>\n",
       "      <th>diagnosa</th>\n",
       "      <th>lama</th>\n",
       "    </tr>\n",
       "  </thead>\n",
       "  <tbody>\n",
       "    <tr>\n",
       "      <th>0</th>\n",
       "      <td>M</td>\n",
       "      <td>37</td>\n",
       "      <td>A91</td>\n",
       "      <td>4</td>\n",
       "    </tr>\n",
       "    <tr>\n",
       "      <th>1</th>\n",
       "      <td>M</td>\n",
       "      <td>18</td>\n",
       "      <td>A91</td>\n",
       "      <td>4</td>\n",
       "    </tr>\n",
       "    <tr>\n",
       "      <th>2</th>\n",
       "      <td>M</td>\n",
       "      <td>30</td>\n",
       "      <td>A91</td>\n",
       "      <td>4</td>\n",
       "    </tr>\n",
       "    <tr>\n",
       "      <th>3</th>\n",
       "      <td>F</td>\n",
       "      <td>37</td>\n",
       "      <td>A91</td>\n",
       "      <td>6</td>\n",
       "    </tr>\n",
       "    <tr>\n",
       "      <th>4</th>\n",
       "      <td>F</td>\n",
       "      <td>16</td>\n",
       "      <td>A91</td>\n",
       "      <td>6</td>\n",
       "    </tr>\n",
       "  </tbody>\n",
       "</table>\n",
       "</div>"
      ],
      "text/plain": [
       "  gender  umur diagnosa  lama\n",
       "0      M    37      A91     4\n",
       "1      M    18      A91     4\n",
       "2      M    30      A91     4\n",
       "3      F    37      A91     6\n",
       "4      F    16      A91     6"
      ]
     },
     "execution_count": 2,
     "metadata": {},
     "output_type": "execute_result"
    }
   ],
   "source": [
    "df = pd.read_csv('data.csv')\n",
    "df.head()"
   ]
  },
  {
   "cell_type": "code",
   "execution_count": 3,
   "id": "69c494b5",
   "metadata": {
    "execution": {
     "iopub.execute_input": "2021-09-08T15:15:01.132567Z",
     "iopub.status.busy": "2021-09-08T15:15:01.131019Z",
     "iopub.status.idle": "2021-09-08T15:15:01.295046Z",
     "shell.execute_reply": "2021-09-08T15:15:01.294546Z",
     "shell.execute_reply.started": "2021-09-08T15:11:23.395908Z"
    },
    "papermill": {
     "duration": 0.19125,
     "end_time": "2021-09-08T15:15:01.295184",
     "exception": false,
     "start_time": "2021-09-08T15:15:01.103934",
     "status": "completed"
    },
    "tags": []
   },
   "outputs": [
    {
     "data": {
      "text/plain": [
       "Text(0, 0.5, 'lama_rawat')"
      ]
     },
     "execution_count": 3,
     "metadata": {},
     "output_type": "execute_result"
    },
    {
     "data": {
      "image/png": "[encoded data removed]",
      "text/plain": [
       "<Figure size 432x288 with 1 Axes>"
      ]
     },
     "metadata": {
      "needs_background": "light"
     },
     "output_type": "display_data"
    }
   ],
   "source": [
    "plt.scatter(df.gender,df.lama)\n",
    "plt.xlabel('gender')\n",
    "plt.ylabel('lama_rawat')"
   ]
  },
  {
   "cell_type": "code",
   "execution_count": 4,
   "id": "932e77ba",
   "metadata": {
    "execution": {
     "iopub.execute_input": "2021-09-08T15:15:01.325631Z",
     "iopub.status.busy": "2021-09-08T15:15:01.324916Z",
     "iopub.status.idle": "2021-09-08T15:15:01.380126Z",
     "shell.execute_reply": "2021-09-08T15:15:01.380679Z",
     "shell.execute_reply.started": "2021-09-08T15:11:23.572392Z"
    },
    "papermill": {
     "duration": 0.074231,
     "end_time": "2021-09-08T15:15:01.380892",
     "exception": false,
     "start_time": "2021-09-08T15:15:01.306661",
     "status": "completed"
    },
    "tags": []
   },
   "outputs": [
    {
     "data": {
      "text/plain": [
       "array([2, 0, 2, ..., 2, 0, 0], dtype=int32)"
      ]
     },
     "execution_count": 4,
     "metadata": {},
     "output_type": "execute_result"
    }
   ],
   "source": [
    "km = KMeans(n_clusters=3)\n",
    "y_predicted = km.fit_predict(df[['umur','lama']])\n",
    "y_predicted"
   ]
  },
  {
   "cell_type": "code",
   "execution_count": 5,
   "id": "7e1ccdd6",
   "metadata": {
    "execution": {
     "iopub.execute_input": "2021-09-08T15:15:01.415837Z",
     "iopub.status.busy": "2021-09-08T15:15:01.415176Z",
     "iopub.status.idle": "2021-09-08T15:15:01.424981Z",
     "shell.execute_reply": "2021-09-08T15:15:01.425485Z",
     "shell.execute_reply.started": "2021-09-08T15:11:23.653279Z"
    },
    "papermill": {
     "duration": 0.030448,
     "end_time": "2021-09-08T15:15:01.425669",
     "exception": false,
     "start_time": "2021-09-08T15:15:01.395221",
     "status": "completed"
    },
    "tags": []
   },
   "outputs": [
    {
     "data": {
      "text/html": [
       "<div>\n",
       "<style scoped>\n",
       "    .dataframe tbody tr th:only-of-type {\n",
       "        vertical-align: middle;\n",
       "    }\n",
       "\n",
       "    .dataframe tbody tr th {\n",
       "        vertical-align: top;\n",
       "    }\n",
       "\n",
       "    .dataframe thead th {\n",
       "        text-align: right;\n",
       "    }\n",
       "</style>\n",
       "<table border=\"1\" class=\"dataframe\">\n",
       "  <thead>\n",
       "    <tr style=\"text-align: right;\">\n",
       "      <th></th>\n",
       "      <th>gender</th>\n",
       "      <th>umur</th>\n",
       "      <th>diagnosa</th>\n",
       "      <th>lama</th>\n",
       "      <th>cluster</th>\n",
       "    </tr>\n",
       "  </thead>\n",
       "  <tbody>\n",
       "    <tr>\n",
       "      <th>0</th>\n",
       "      <td>M</td>\n",
       "      <td>37</td>\n",
       "      <td>A91</td>\n",
       "      <td>4</td>\n",
       "      <td>2</td>\n",
       "    </tr>\n",
       "    <tr>\n",
       "      <th>1</th>\n",
       "      <td>M</td>\n",
       "      <td>18</td>\n",
       "      <td>A91</td>\n",
       "      <td>4</td>\n",
       "      <td>0</td>\n",
       "    </tr>\n",
       "    <tr>\n",
       "      <th>2</th>\n",
       "      <td>M</td>\n",
       "      <td>30</td>\n",
       "      <td>A91</td>\n",
       "      <td>4</td>\n",
       "      <td>2</td>\n",
       "    </tr>\n",
       "    <tr>\n",
       "      <th>3</th>\n",
       "      <td>F</td>\n",
       "      <td>37</td>\n",
       "      <td>A91</td>\n",
       "      <td>6</td>\n",
       "      <td>2</td>\n",
       "    </tr>\n",
       "    <tr>\n",
       "      <th>4</th>\n",
       "      <td>F</td>\n",
       "      <td>16</td>\n",
       "      <td>A91</td>\n",
       "      <td>6</td>\n",
       "      <td>0</td>\n",
       "    </tr>\n",
       "  </tbody>\n",
       "</table>\n",
       "</div>"
      ],
      "text/plain": [
       "  gender  umur diagnosa  lama  cluster\n",
       "0      M    37      A91     4        2\n",
       "1      M    18      A91     4        0\n",
       "2      M    30      A91     4        2\n",
       "3      F    37      A91     6        2\n",
       "4      F    16      A91     6        0"
      ]
     },
     "execution_count": 5,
     "metadata": {},
     "output_type": "execute_result"
    }
   ],
   "source": [
    "df['cluster']=y_predicted\n",
    "df.head()"
   ]
  },
  {
   "cell_type": "code",
   "execution_count": 6,
   "id": "7e2215e0",
   "metadata": {
    "execution": {
     "iopub.execute_input": "2021-09-08T15:15:01.463807Z",
     "iopub.status.busy": "2021-09-08T15:15:01.462947Z",
     "iopub.status.idle": "2021-09-08T15:15:01.466125Z",
     "shell.execute_reply": "2021-09-08T15:15:01.464375Z",
     "shell.execute_reply.started": "2021-09-08T15:11:23.675788Z"
    },
    "papermill": {
     "duration": 0.025597,
     "end_time": "2021-09-08T15:15:01.466283",
     "exception": false,
     "start_time": "2021-09-08T15:15:01.440686",
     "status": "completed"
    },
    "tags": []
   },
   "outputs": [
    {
     "data": {
      "text/plain": [
       "array([[16.86422414,  3.82758621],\n",
       "       [56.95652174,  4.48447205],\n",
       "       [37.74674115,  4.15083799]])"
      ]
     },
     "execution_count": 6,
     "metadata": {},
     "output_type": "execute_result"
    }
   ],
   "source": [
    "km.cluster_centers_"
   ]
  },
  {
   "cell_type": "code",
   "execution_count": 7,
   "id": "cbf652f1",
   "metadata": {
    "execution": {
     "iopub.execute_input": "2021-09-08T15:15:01.506364Z",
     "iopub.status.busy": "2021-09-08T15:15:01.505254Z",
     "iopub.status.idle": "2021-09-08T15:15:01.778013Z",
     "shell.execute_reply": "2021-09-08T15:15:01.778520Z",
     "shell.execute_reply.started": "2021-09-08T15:11:23.689326Z"
    },
    "papermill": {
     "duration": 0.29708,
     "end_time": "2021-09-08T15:15:01.778692",
     "exception": false,
     "start_time": "2021-09-08T15:15:01.481612",
     "status": "completed"
    },
    "tags": []
   },
   "outputs": [
    {
     "data": {
      "text/plain": [
       "<matplotlib.legend.Legend at 0x7f401856ec50>"
      ]
     },
     "execution_count": 7,
     "metadata": {},
     "output_type": "execute_result"
    },
    {
     "data": {
      "image/png": "[encoded data removed]",
      "text/plain": [
       "<Figure size 432x288 with 1 Axes>"
      ]
     },
     "metadata": {
      "needs_background": "light"
     },
     "output_type": "display_data"
    }
   ],
   "source": [
    "df1 = df[df.cluster==0]\n",
    "df2 = df[df.cluster==1]\n",
    "df3 = df[df.cluster==2]\n",
    "plt.scatter(df1.umur,df1['lama'],color='green')\n",
    "plt.scatter(df2.umur,df2['lama'],color='red')\n",
    "plt.scatter(df3.umur,df3['lama'],color='blue')\n",
    "plt.scatter(km.cluster_centers_[:,0],km.cluster_centers_[:,1],color='purple',marker='*',label='centroid')\n",
    "plt.xlabel('umur')\n",
    "plt.ylabel('lama rawat')\n",
    "plt.legend()"
   ]
  },
  {
   "cell_type": "code",
   "execution_count": 8,
   "id": "b7fefbda",
   "metadata": {
    "execution": {
     "iopub.execute_input": "2021-09-08T15:15:01.807607Z",
     "iopub.status.busy": "2021-09-08T15:15:01.807027Z",
     "iopub.status.idle": "2021-09-08T15:15:01.816066Z",
     "shell.execute_reply": "2021-09-08T15:15:01.816506Z",
     "shell.execute_reply.started": "2021-09-08T15:11:23.979231Z"
    },
    "papermill": {
     "duration": 0.025035,
     "end_time": "2021-09-08T15:15:01.816683",
     "exception": false,
     "start_time": "2021-09-08T15:15:01.791648",
     "status": "completed"
    },
    "tags": []
   },
   "outputs": [],
   "source": [
    "df.to_csv ('hasil_kmeans_3_cluster.csv', index = False, header=True)"
   ]
  },
  {
   "cell_type": "code",
   "execution_count": 9,
   "id": "4b2c5aa8",
   "metadata": {
    "execution": {
     "iopub.execute_input": "2021-09-08T15:15:01.845264Z",
     "iopub.status.busy": "2021-09-08T15:15:01.844596Z",
     "iopub.status.idle": "2021-09-08T15:15:02.025702Z",
     "shell.execute_reply": "2021-09-08T15:15:02.026272Z",
     "shell.execute_reply.started": "2021-09-08T15:11:24.157507Z"
    },
    "papermill": {
     "duration": 0.19689,
     "end_time": "2021-09-08T15:15:02.026476",
     "exception": false,
     "start_time": "2021-09-08T15:15:01.829586",
     "status": "completed"
    },
    "tags": []
   },
   "outputs": [
    {
     "data": {
      "text/plain": [
       "array([2, 3, 2, ..., 2, 0, 0], dtype=int32)"
      ]
     },
     "execution_count": 9,
     "metadata": {},
     "output_type": "execute_result"
    }
   ],
   "source": [
    "km = KMeans(n_clusters=5)\n",
    "y_predicted = km.fit_predict(df[['lama','umur']])\n",
    "y_predicted"
   ]
  },
  {
   "cell_type": "code",
   "execution_count": 10,
   "id": "3eced5c3",
   "metadata": {
    "execution": {
     "iopub.execute_input": "2021-09-08T15:15:02.073290Z",
     "iopub.status.busy": "2021-09-08T15:15:02.072580Z",
     "iopub.status.idle": "2021-09-08T15:15:02.081392Z",
     "shell.execute_reply": "2021-09-08T15:15:02.080834Z",
     "shell.execute_reply.started": "2021-09-08T15:11:24.228922Z"
    },
    "papermill": {
     "duration": 0.036982,
     "end_time": "2021-09-08T15:15:02.081563",
     "exception": false,
     "start_time": "2021-09-08T15:15:02.044581",
     "status": "completed"
    },
    "tags": []
   },
   "outputs": [
    {
     "data": {
      "text/html": [
       "<div>\n",
       "<style scoped>\n",
       "    .dataframe tbody tr th:only-of-type {\n",
       "        vertical-align: middle;\n",
       "    }\n",
       "\n",
       "    .dataframe tbody tr th {\n",
       "        vertical-align: top;\n",
       "    }\n",
       "\n",
       "    .dataframe thead th {\n",
       "        text-align: right;\n",
       "    }\n",
       "</style>\n",
       "<table border=\"1\" class=\"dataframe\">\n",
       "  <thead>\n",
       "    <tr style=\"text-align: right;\">\n",
       "      <th></th>\n",
       "      <th>gender</th>\n",
       "      <th>umur</th>\n",
       "      <th>diagnosa</th>\n",
       "      <th>lama</th>\n",
       "      <th>cluster</th>\n",
       "    </tr>\n",
       "  </thead>\n",
       "  <tbody>\n",
       "    <tr>\n",
       "      <th>0</th>\n",
       "      <td>M</td>\n",
       "      <td>37</td>\n",
       "      <td>A91</td>\n",
       "      <td>4</td>\n",
       "      <td>2</td>\n",
       "    </tr>\n",
       "    <tr>\n",
       "      <th>1</th>\n",
       "      <td>M</td>\n",
       "      <td>18</td>\n",
       "      <td>A91</td>\n",
       "      <td>4</td>\n",
       "      <td>3</td>\n",
       "    </tr>\n",
       "    <tr>\n",
       "      <th>2</th>\n",
       "      <td>M</td>\n",
       "      <td>30</td>\n",
       "      <td>A91</td>\n",
       "      <td>4</td>\n",
       "      <td>2</td>\n",
       "    </tr>\n",
       "    <tr>\n",
       "      <th>3</th>\n",
       "      <td>F</td>\n",
       "      <td>37</td>\n",
       "      <td>A91</td>\n",
       "      <td>6</td>\n",
       "      <td>2</td>\n",
       "    </tr>\n",
       "    <tr>\n",
       "      <th>4</th>\n",
       "      <td>F</td>\n",
       "      <td>16</td>\n",
       "      <td>A91</td>\n",
       "      <td>6</td>\n",
       "      <td>3</td>\n",
       "    </tr>\n",
       "  </tbody>\n",
       "</table>\n",
       "</div>"
      ],
      "text/plain": [
       "  gender  umur diagnosa  lama  cluster\n",
       "0      M    37      A91     4        2\n",
       "1      M    18      A91     4        3\n",
       "2      M    30      A91     4        2\n",
       "3      F    37      A91     6        2\n",
       "4      F    16      A91     6        3"
      ]
     },
     "execution_count": 10,
     "metadata": {},
     "output_type": "execute_result"
    }
   ],
   "source": [
    "df['cluster']=y_predicted\n",
    "df.head()"
   ]
  },
  {
   "cell_type": "code",
   "execution_count": 11,
   "id": "7e4a71ed",
   "metadata": {
    "execution": {
     "iopub.execute_input": "2021-09-08T15:15:02.126547Z",
     "iopub.status.busy": "2021-09-08T15:15:02.125631Z",
     "iopub.status.idle": "2021-09-08T15:15:02.128943Z",
     "shell.execute_reply": "2021-09-08T15:15:02.127158Z",
     "shell.execute_reply.started": "2021-09-08T15:11:24.252361Z"
    },
    "papermill": {
     "duration": 0.029535,
     "end_time": "2021-09-08T15:15:02.129105",
     "exception": false,
     "start_time": "2021-09-08T15:15:02.099570",
     "status": "completed"
    },
    "tags": []
   },
   "outputs": [
    {
     "data": {
      "text/plain": [
       "array([[ 3.79190751,  9.5433526 ],\n",
       "       [ 4.35502959, 48.61538462],\n",
       "       [ 4.17352941, 35.92058824],\n",
       "       [ 3.85250737, 22.2300885 ],\n",
       "       [ 4.48120301, 64.68421053]])"
      ]
     },
     "execution_count": 11,
     "metadata": {},
     "output_type": "execute_result"
    }
   ],
   "source": [
    "km.cluster_centers_"
   ]
  },
  {
   "cell_type": "code",
   "execution_count": 12,
   "id": "668ffdd9",
   "metadata": {
    "execution": {
     "iopub.execute_input": "2021-09-08T15:15:02.182461Z",
     "iopub.status.busy": "2021-09-08T15:15:02.181751Z",
     "iopub.status.idle": "2021-09-08T15:15:02.458184Z",
     "shell.execute_reply": "2021-09-08T15:15:02.457455Z",
     "shell.execute_reply.started": "2021-09-08T15:11:24.266083Z"
    },
    "papermill": {
     "duration": 0.312276,
     "end_time": "2021-09-08T15:15:02.458334",
     "exception": false,
     "start_time": "2021-09-08T15:15:02.146058",
     "status": "completed"
    },
    "tags": []
   },
   "outputs": [
    {
     "data": {
      "text/plain": [
       "<matplotlib.legend.Legend at 0x7f40184ec210>"
      ]
     },
     "execution_count": 12,
     "metadata": {},
     "output_type": "execute_result"
    },
    {
     "data": {
      "image/png": "[encoded data removed]",
      "text/plain": [
       "<Figure size 432x288 with 1 Axes>"
      ]
     },
     "metadata": {
      "needs_background": "light"
     },
     "output_type": "display_data"
    }
   ],
   "source": [
    "df1 = df[df.cluster==0]\n",
    "df2 = df[df.cluster==1]\n",
    "df3 = df[df.cluster==2]\n",
    "df4 = df[df.cluster==3]\n",
    "df5 = df[df.cluster==4]\n",
    "plt.scatter(df1.lama,df1.umur,color='green')\n",
    "plt.scatter(df2.lama,df2.umur,color='red')\n",
    "plt.scatter(df3.lama,df3.umur,color='blue')\n",
    "plt.scatter(df4.lama,df4.umur,color='yellow')\n",
    "plt.scatter(df5.lama,df5.umur,color='black')\n",
    "plt.scatter(km.cluster_centers_[:,0],km.cluster_centers_[:,1],color='purple',marker='*',label='centroid')\n",
    "plt.xlabel('lama rawat')\n",
    "plt.ylabel('umur')\n",
    "plt.legend()"
   ]
  },
  {
   "cell_type": "code",
   "execution_count": 13,
   "id": "21df6211",
   "metadata": {
    "execution": {
     "iopub.execute_input": "2021-09-08T15:15:02.498487Z",
     "iopub.status.busy": "2021-09-08T15:15:02.497474Z",
     "iopub.status.idle": "2021-09-08T15:15:04.618136Z",
     "shell.execute_reply": "2021-09-08T15:15:04.619420Z",
     "shell.execute_reply.started": "2021-09-08T15:11:24.606543Z"
    },
    "papermill": {
     "duration": 2.145928,
     "end_time": "2021-09-08T15:15:04.619651",
     "exception": false,
     "start_time": "2021-09-08T15:15:02.473723",
     "status": "completed"
    },
    "tags": []
   },
   "outputs": [],
   "source": [
    "sse = []\n",
    "k_rng = range(1,10)\n",
    "for k in k_rng:\n",
    "    km = KMeans(n_clusters=k)\n",
    "    km.fit(df[['umur','lama']])\n",
    "    sse.append(km.inertia_)"
   ]
  },
  {
   "cell_type": "code",
   "execution_count": 14,
   "id": "0af6eb55",
   "metadata": {
    "execution": {
     "iopub.execute_input": "2021-09-08T15:15:04.722368Z",
     "iopub.status.busy": "2021-09-08T15:15:04.717523Z",
     "iopub.status.idle": "2021-09-08T15:15:04.931286Z",
     "shell.execute_reply": "2021-09-08T15:15:04.931973Z",
     "shell.execute_reply.started": "2021-09-08T15:11:27.082242Z"
    },
    "papermill": {
     "duration": 0.278617,
     "end_time": "2021-09-08T15:15:04.932167",
     "exception": false,
     "start_time": "2021-09-08T15:15:04.653550",
     "status": "completed"
    },
    "tags": []
   },
   "outputs": [
    {
     "data": {
      "text/plain": [
       "[<matplotlib.lines.Line2D at 0x7f40183a36d0>]"
      ]
     },
     "execution_count": 14,
     "metadata": {},
     "output_type": "execute_result"
    },
    {
     "data": {
      "image/png": "[encoded data removed]",
      "text/plain": [
       "<Figure size 432x288 with 1 Axes>"
      ]
     },
     "metadata": {
      "needs_background": "light"
     },
     "output_type": "display_data"
    }
   ],
   "source": [
    "plt.xlabel('K')\n",
    "plt.ylabel('Sum of squared error')\n",
    "plt.plot(k_rng,sse)"
   ]
  },
  {
   "cell_type": "code",
   "execution_count": null,
   "id": "3d91e22f",
   "metadata": {
    "papermill": {
     "duration": 0.021063,
     "end_time": "2021-09-08T15:15:04.982916",
     "exception": false,
     "start_time": "2021-09-08T15:15:04.961853",
     "status": "completed"
    },
    "tags": []
   },
   "outputs": [],
   "source": []
  }
 ],
 "metadata": {
  "kernelspec": {
   "display_name": "Python 3",
   "language": "python",
   "name": "python3"
  },
  "language_info": {
   "codemirror_mode": {
    "name": "ipython",
    "version": 3
   },
   "file_extension": ".py",
   "mimetype": "text/x-python",
   "name": "python",
   "nbconvert_exporter": "python",
   "pygments_lexer": "ipython3",
   "version": "3.7.10"
  },
  "papermill": {
   "default_parameters": {},
   "duration": 13.783532,
   "end_time": "2021-09-08T15:15:06.619848",
   "environment_variables": {},
   "exception": null,
   "input_path": "__notebook__.ipynb",
   "output_path": "__notebook__.ipynb",
   "parameters": {},
   "start_time": "2021-09-08T15:14:52.836316",
   "version": "2.3.3"
  }
 },
 "nbformat": 4,
 "nbformat_minor": 5
}
